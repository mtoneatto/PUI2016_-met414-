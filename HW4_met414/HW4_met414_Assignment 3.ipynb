{
 "cells": [
  {
   "cell_type": "markdown",
   "metadata": {},
   "source": [
    "# Homework 4, Assignment 3"
   ]
  },
  {
   "cell_type": "code",
   "execution_count": 9,
   "metadata": {
    "collapsed": false
   },
   "outputs": [
    {
     "name": "stdout",
     "output_type": "stream",
     "text": [
      "Populating the interactive namespace from numpy and matplotlib\n"
     ]
    }
   ],
   "source": [
    "import os\n",
    "import sys\n",
    "import numpy as np\n",
    "import pylab as pl\n",
    "\n",
    "\n",
    "import json\n",
    "import os\n",
    "\n",
    "%pylab inline"
   ]
  },
  {
   "cell_type": "markdown",
   "metadata": {},
   "source": [
    "# Null Hypothesis:\n",
    "\n",
    "## Idea:\n",
    "Those who convicted felonies are less likely to revert back to criminal behavior if they participate in the employment program.\n",
    "\n",
    "## Null Hypothesis\n",
    "The percentage of former convicted felons who would recitivate 1-3 years after release from prison is the same or higher for employment program participants than as for the control group, significance level p=0.05\n",
    "\n",
    "## Alternative Hypothesis\n",
    "The percentage of former convicted felons who would recitivate 1-3 years after release from prison is lower for employment program participants than as for the control group, significance level p=0.05\n",
    "\n",
    "H0 = P_1 - P_0 <= 0\n",
    "\n",
    "Ha = P_0 - P_1 > 0\n",
    "\n",
    "\n",
    "#### Notations:\n",
    "P_0 = Program group percentage, \n",
    "\n",
    "P_1 = Control group percentage, \n",
    "\n",
    "n_0 = Program group population, \n",
    "\n",
    "n_1 = Cotrol group poplulation\n",
    "\n",
    "sp = sample proportion"
   ]
  },
  {
   "cell_type": "code",
   "execution_count": 54,
   "metadata": {
    "collapsed": false
   },
   "outputs": [
    {
     "name": "stdout",
     "output_type": "stream",
     "text": [
      "we must assess the statistical significance\n"
     ]
    }
   ],
   "source": [
    "a = 0.05 #where a is alpha\n",
    "\n",
    "P_0 = 10 * 0.01 #Program group\n",
    "P_1 = 11.7 * 0.01 #Control group\n",
    "\n",
    "if P_1 - P_0 <= 0:\n",
    "    print (\"Do not reject null\")\n",
    "else:\n",
    "    print (\"we must assess the statistical significance\")\n",
    "    \n",
    "n_0 = 568\n",
    "n_1 = 409\n",
    "\n",
    "\n",
    "Nt_0 = P_0 * n_0\n",
    "Nt_1 = P_1 * n_1"
   ]
  },
  {
   "cell_type": "markdown",
   "metadata": {},
   "source": [
    "## Z-Test"
   ]
  },
  {
   "cell_type": "code",
   "execution_count": 31,
   "metadata": {
    "collapsed": false
   },
   "outputs": [
    {
     "name": "stdout",
     "output_type": "stream",
     "text": [
      "0.107116683726\n"
     ]
    }
   ],
   "source": [
    "#sp = Standard Proportion\n",
    "sp = (P_0 * n_0 + P_1 * n_1) / (n_1 + n_0)\n",
    "print (sp)"
   ]
  },
  {
   "cell_type": "code",
   "execution_count": 35,
   "metadata": {
    "collapsed": true
   },
   "outputs": [],
   "source": [
    "#se = Standard Error\n",
    "p = lambda P_0, P_1, n_0, n_1: (P_0 * n_0 + P_1 * n_1) / (n_0 + n_1)\n",
    "\n",
    "se = lambda p, n_0, n_1: np.sqrt(p * (1 - p) * (1.0 / n_0 + 1.0 / n_1)) "
   ]
  },
  {
   "cell_type": "markdown",
   "metadata": {},
   "source": [
    "## z-score\n",
    "\n",
    "Calculates how many standard deviations away from the the population parameters my statistic is"
   ]
  },
  {
   "cell_type": "code",
   "execution_count": 36,
   "metadata": {
    "collapsed": true
   },
   "outputs": [],
   "source": [
    "zscore = lambda P_0, P_1, s : (P_0 - P_1) / s "
   ]
  },
  {
   "cell_type": "code",
   "execution_count": 40,
   "metadata": {
    "collapsed": false
   },
   "outputs": [
    {
     "name": "stdout",
     "output_type": "stream",
     "text": [
      "-0.84764020522\n"
     ]
    }
   ],
   "source": [
    "z_2y = zscore(P_0, P_1, se(p(P_0, P_1, n_0, n_1), n_0, n_1))\n",
    "print (z_2y)"
   ]
  },
  {
   "cell_type": "code",
   "execution_count": 47,
   "metadata": {
    "collapsed": false
   },
   "outputs": [
    {
     "name": "stdout",
     "output_type": "stream",
     "text": [
      "is the p value 0.20 smaller than the critical value 0.05?\n",
      "NO!\n",
      "the Null hypothesis is not rejected\n"
     ]
    }
   ],
   "source": [
    "p_2y = 1 - 0.7995\n",
    "\n",
    "\n",
    "def report_result(p,a):\n",
    "    print ('is the p value ' + \n",
    "           '{0:.2f} smaller than the critical value {1:.2f}?'.format(p,a))\n",
    "    if p < a:\n",
    "        print (\"YES!\")\n",
    "    else: \n",
    "        print (\"NO!\")\n",
    "    \n",
    "    print ('the Null hypothesis is {}'.format(\\\n",
    "                            'rejected' if p < a  else 'not rejected') )\n",
    "\n",
    "    \n",
    "report_result(p_2y, a) #where a is alpha"
   ]
  },
  {
   "cell_type": "markdown",
   "metadata": {},
   "source": [
    "### Because the p value of 0.20 is NOT smaller than the significance value (alpha), the Null Hypothesis is NOT rejected"
   ]
  },
  {
   "cell_type": "markdown",
   "metadata": {},
   "source": [
    "# CHI SQ"
   ]
  },
  {
   "cell_type": "markdown",
   "metadata": {
    "collapsed": true
   },
   "source": [
    "|Recitivated |     YES         | NO     |                   \n",
    "|---------------------------|:---------------------:|------------------|---------------------------|\n",
    "| program sample               | $0.10*568$           | $0.90*568$      | 568                       |\n",
    "| control sample            | $0.117*409$           | $.883*409$     | 409                       |\n",
    "|                           |                       |                  |                           |\n",
    "| total                     | 104.653               |  872.347        | 977      "
   ]
  },
  {
   "cell_type": "code",
   "execution_count": 48,
   "metadata": {
    "collapsed": true
   },
   "outputs": [],
   "source": [
    "def evalChisq(values):\n",
    "    values = np.array(values)\n",
    "    E = np.empty_like(values)\n",
    "    for j in range(len(values[0])):\n",
    "        for i in range(2):\n",
    "            \n",
    "            E[i][j] = ((values[i,:].sum() * values[:,j].sum()) / \n",
    "                        (values).sum())\n",
    "    return ((values - E)**2 / E).sum()"
   ]
  },
  {
   "cell_type": "code",
   "execution_count": 49,
   "metadata": {
    "collapsed": false
   },
   "outputs": [
    {
     "name": "stdout",
     "output_type": "stream",
     "text": [
      "0.718493917505\n"
     ]
    }
   ],
   "source": [
    "sample_values = np.array([[0.10 * 568,  0.900 * 568], [0.117 * 409, 0.883 * 409]])\n",
    "print (evalChisq(sample_values))"
   ]
  },
  {
   "cell_type": "markdown",
   "metadata": {},
   "source": [
    "### Degrees of Freedom = Number of Observations - number of independent variables\n",
    "\n",
    "### 1 = 2 - 1 (DOF = 1)\n",
    "\n",
    "### When referring to the CHI SQ table, a CHI SQ statistic of ~.7185 produces a minimum CHI SQ significanct value of 3.84. Thus we DO NOT reject the Null Hypothesis. "
   ]
  },
  {
   "cell_type": "code",
   "execution_count": null,
   "metadata": {
    "collapsed": true
   },
   "outputs": [],
   "source": []
  }
 ],
 "metadata": {
  "kernelspec": {
   "display_name": "PUI2016_Python2",
   "language": "python",
   "name": "pui2016_python2"
  },
  "language_info": {
   "codemirror_mode": {
    "name": "ipython",
    "version": 2
   },
   "file_extension": ".py",
   "mimetype": "text/x-python",
   "name": "python",
   "nbconvert_exporter": "python",
   "pygments_lexer": "ipython2",
   "version": "2.7.12"
  }
 },
 "nbformat": 4,
 "nbformat_minor": 0
}
