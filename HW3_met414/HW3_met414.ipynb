{
 "cells": [
  {
   "cell_type": "code",
   "execution_count": 17,
   "metadata": {
    "collapsed": false
   },
   "outputs": [
    {
     "name": "stdout",
     "output_type": "stream",
     "text": [
      "Populating the interactive namespace from numpy and matplotlib\n"
     ]
    }
   ],
   "source": [
    "from __future__ import print_function\n",
    "__author__= \"met414\"\n",
    "\n",
    "import pylab as pl\n",
    "from scipy.optimize import curve_fit, minimize\n",
    "\n",
    "%pylab inline"
   ]
  },
  {
   "cell_type": "code",
   "execution_count": 18,
   "metadata": {
    "collapsed": true
   },
   "outputs": [],
   "source": [
    "distributions = ['chisq']"
   ]
  },
  {
   "cell_type": "code",
   "execution_count": 19,
   "metadata": {
    "collapsed": true
   },
   "outputs": [],
   "source": [
    "mymean = 100"
   ]
  },
  {
   "cell_type": "code",
   "execution_count": 28,
   "metadata": {
    "collapsed": false
   },
   "outputs": [
    {
     "data": {
      "text/plain": [
       "<matplotlib.text.Text at 0x7f9c21d5cf90>"
      ]
     },
     "execution_count": 28,
     "metadata": {},
     "output_type": "execute_result"
    },
    {
     "data": {
      "image/png": "[encoded data removed]",
      "text/plain": [
       "<matplotlib.figure.Figure at 0x7f9c2200ce90>"
      ]
     },
     "metadata": {},
     "output_type": "display_data"
    }
   ],
   "source": [
    "import numpy as np\n",
    "md = {}\n",
    "md['chisq'] = np.random.chisquare(100,size=100)\n",
    "pl.hist(md['chisq'], bins = 30)\n",
    "pl.ylabel('N')\n",
    "pl.xlabel('x')"
   ]
  },
  {
   "cell_type": "code",
   "execution_count": 29,
   "metadata": {
    "collapsed": false
   },
   "outputs": [
    {
     "name": "stdout",
     "output_type": "stream",
     "text": [
      "Chisq mean: 101.39, standard deviation: 15.10\n"
     ]
    }
   ],
   "source": [
    "print (\"Chisq mean: %.2f, standard deviation: %.2f\"%(md['chisq'].mean(), md['chisq'].std()))\n"
   ]
  },
  {
   "cell_type": "code",
   "execution_count": 33,
   "metadata": {
    "collapsed": false
   },
   "outputs": [
    {
     "name": "stdout",
     "output_type": "stream",
     "text": [
      "[2000 1000  666  500  400  333  285  250  222  200  181  166  153  142  133\n",
      "  125  117  111  105  100   95   90   86   83   80   76   74   71   68   66\n",
      "   64   62   60   58   57   55   54   52   51   50   48   47   46   45   44\n",
      "   43   42   41   40   40   39   38   37   37   36   35   35   34   33   33\n",
      "   32   32   31   31   30   30   29   29   28   28   28   27   27   27   26\n",
      "   26   25   25   25   25   24   24   24   23   23   23   22   22   22   22\n",
      "   21   21   21   21   21   20   20   20   20] (99,)\n"
     ]
    }
   ],
   "source": [
    "mysize = (2000 / (np.array(range(1,100)))).astype(int)\n",
    "print (mysize,mysize.shape)"
   ]
  },
  {
   "cell_type": "code",
   "execution_count": 50,
   "metadata": {
    "collapsed": false,
    "scrolled": true
   },
   "outputs": [
    {
     "name": "stdout",
     "output_type": "stream",
     "text": [
      "[ 398  448 1601 1068 1647 1840 1967 1050  691  810  136  500   83  381  610\n",
      "  422 1350  172  547 1235 1349  526 1587 1334 1191  530 1211 1523 1517 1369\n",
      "  852  503 1476 1144 1743 1204 1353 1067  178  191  619  680 1392  832 1953\n",
      "  314 1829  761  485 1501  471 1015  772  634 1307   46  948 1239  128  283\n",
      "  270  158 1047 1012 1682  429 1093 1409 1987 1893  628 1959 1486 1487  115\n",
      "  149  286   93 1609 1417 1943 1511  438 1241 1779 1396  646 1549  402 1940\n",
      " 1332  293 1766 1714  256  883  626  803 1435 1176]\n"
     ]
    }
   ],
   "source": [
    "myrandsamp = np.random.randint(11,2000,100,np.array)\n",
    "print (myrandsamp)"
   ]
  },
  {
   "cell_type": "code",
   "execution_count": 55,
   "metadata": {
    "collapsed": false
   },
   "outputs": [
    {
     "name": "stdout",
     "output_type": "stream",
     "text": [
      "[ 311  467 1026  527  278 1242  399  280 1482   62 1020 1700 1458 1846 1167\n",
      "  791   15 1607 1644 1091  461 1136 1815  193  116 1545  520  788 1729 1646\n",
      " 1141 1466  783  384  724  225 1011 1421 1430 1852  671 1493 1664  722  681\n",
      " 1403 1107 1323 1163   49  372  145 1858   34 1955  693  264 1580  744   95\n",
      "  124 1357 1756 1563  211  837 1021 1043  194 1491 1601  726 1535  287 1765\n",
      "  121 1493   64 1686 1964   67  716 1608  463  805  483   45  144  120  544\n",
      " 1879  769   63  940 1560 1995 1055 1554   72 1082]\n"
     ]
    }
   ],
   "source": [
    "myrandsamp2 = np.random.randint(11,2000,100)\n",
    "print (myrandsamp2)"
   ]
  },
  {
   "cell_type": "code",
   "execution_count": 60,
   "metadata": {
    "collapsed": false
   },
   "outputs": [
    {
     "name": "stdout",
     "output_type": "stream",
     "text": [
      "993.51\n"
     ]
    }
   ],
   "source": [
    "print (np.mean(myrandsamp))"
   ]
  },
  {
   "cell_type": "code",
   "execution_count": null,
   "metadata": {
    "collapsed": true
   },
   "outputs": [],
   "source": []
  }
 ],
 "metadata": {
  "kernelspec": {
   "display_name": "PUI2016_Python2",
   "language": "python",
   "name": "pui2016_python2"
  },
  "language_info": {
   "codemirror_mode": {
    "name": "ipython",
    "version": 2
   },
   "file_extension": ".py",
   "mimetype": "text/x-python",
   "name": "python",
   "nbconvert_exporter": "python",
   "pygments_lexer": "ipython2",
   "version": "2.7.12"
  }
 },
 "nbformat": 4,
 "nbformat_minor": 0
}
